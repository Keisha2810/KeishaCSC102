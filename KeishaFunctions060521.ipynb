{
 "cells": [
  {
   "cell_type": "code",
   "execution_count": 6,
   "metadata": {},
   "outputs": [
    {
     "name": "stdout",
     "output_type": "stream",
     "text": [
      "Enter a shut down argument: Wahoo\n",
      "Sorry such argument not available here\n"
     ]
    }
   ],
   "source": [
    "#Program for shutting down\n",
    "def shut_down(c):\n",
    "    a = [\"Yes\",\"yes\",\"YES\",]\n",
    "    b = [\"No\",\"no\",\"NO\"]\n",
    "    if c in a:\n",
    "        print(\"The system is shutting down\")\n",
    "    elif c in b:\n",
    "        print(\"Shut down aborted\")\n",
    "    else:\n",
    "        print(\"Sorry such argument not available here\")\n",
    "c= input(\"Enter a shut down argument: \")\n",
    "shut_down(c)  "
   ]
  },
  {
   "cell_type": "markdown",
   "metadata": {},
   "source": [
    "<span style=color:green;>**green color**</span><br>"
   ]
  },
  {
   "cell_type": "code",
   "execution_count": 9,
   "metadata": {},
   "outputs": [
    {
     "ename": "SyntaxError",
     "evalue": "unexpected EOF while parsing (<ipython-input-9-006419a101ec>, line 9)",
     "output_type": "error",
     "traceback": [
      "\u001b[1;36m  File \u001b[1;32m\"<ipython-input-9-006419a101ec>\"\u001b[1;36m, line \u001b[1;32m9\u001b[0m\n\u001b[1;33m    \u001b[0m\n\u001b[1;37m    ^\u001b[0m\n\u001b[1;31mSyntaxError\u001b[0m\u001b[1;31m:\u001b[0m unexpected EOF while parsing\n"
     ]
    }
   ],
   "source": [
    "import colorama\n",
    "from colorama import Fore, Style\n",
    "import pandas as pd\n",
    "import csv\n",
    "\n",
    "def showEmployee(a):\n",
    "    b=0\n",
    "    while b < c:\n",
    "        "
   ]
  },
  {
   "cell_type": "code",
   "execution_count": 38,
   "metadata": {},
   "outputs": [
    {
     "name": "stdout",
     "output_type": "stream",
     "text": [
      "Enter a number: 9\n"
     ]
    },
    {
     "data": {
      "text/plain": [
       "729.0"
      ]
     },
     "execution_count": 38,
     "metadata": {},
     "output_type": "execute_result"
    }
   ],
   "source": [
    " def cube(number):\n",
    "    a = number**3\n",
    "    return a\n",
    "def by_three(number):\n",
    "    if number%3==0:\n",
    "        return cube(number)\n",
    "    else:\n",
    "        return False\n",
    "number = float(input(\"Enter a number: \"))\n",
    "by_three(number)\n",
    "    "
   ]
  },
  {
   "cell_type": "code",
   "execution_count": null,
   "metadata": {},
   "outputs": [],
   "source": []
  },
  {
   "cell_type": "code",
   "execution_count": null,
   "metadata": {},
   "outputs": [],
   "source": []
  }
 ],
 "metadata": {
  "kernelspec": {
   "display_name": "Python 3",
   "language": "python",
   "name": "python3"
  },
  "language_info": {
   "codemirror_mode": {
    "name": "ipython",
    "version": 3
   },
   "file_extension": ".py",
   "mimetype": "text/x-python",
   "name": "python",
   "nbconvert_exporter": "python",
   "pygments_lexer": "ipython3",
   "version": "3.8.5"
  }
 },
 "nbformat": 4,
 "nbformat_minor": 4
}
